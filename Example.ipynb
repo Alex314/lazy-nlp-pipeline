{
 "cells": [
  {
   "cell_type": "code",
   "execution_count": 1,
   "id": "9af3b38a-1488-44a0-9744-1f6f22b71639",
   "metadata": {
    "tags": []
   },
   "outputs": [],
   "source": [
    "import pandas as pd\n",
    "from tqdm import tqdm"
   ]
  },
  {
   "cell_type": "markdown",
   "id": "0e32be00-ab46-48ef-9deb-b2fce21b7b4c",
   "metadata": {},
   "source": [
    "# Showcase of the lazy_nlp_pipeline"
   ]
  },
  {
   "cell_type": "markdown",
   "id": "40eba647-dbfa-48ed-9c78-068269ed6cc2",
   "metadata": {},
   "source": [
    "## Task definition"
   ]
  },
  {
   "cell_type": "markdown",
   "id": "90e0caa7-5ae9-4da6-a85a-80229f2253cc",
   "metadata": {},
   "source": [
    "Let's say there's a need to perform some simple rule-based pattern matching. In this example we'll match mentions of russian [military unit numbers](https://en.wikipedia.org/wiki/Military_Unit_Number) (Russian: Войсковая часть).\n",
    "The prime dataset is a collection of texts, mainly in russian, from Telegram channel \"Ищи своих\" which includes many mentions of russian military units.\n",
    "\n",
    "Dataset includes 11_000 rows with `msg_id` and `message` columns."
   ]
  },
  {
   "cell_type": "code",
   "execution_count": 2,
   "id": "297f65ed-1a7f-4b3e-9ce3-fdc085917d0e",
   "metadata": {
    "tags": []
   },
   "outputs": [
    {
     "data": {
      "text/html": [
       "<div>\n",
       "<style scoped>\n",
       "    .dataframe tbody tr th:only-of-type {\n",
       "        vertical-align: middle;\n",
       "    }\n",
       "\n",
       "    .dataframe tbody tr th {\n",
       "        vertical-align: top;\n",
       "    }\n",
       "\n",
       "    .dataframe thead th {\n",
       "        text-align: right;\n",
       "    }\n",
       "</style>\n",
       "<table border=\"1\" class=\"dataframe\">\n",
       "  <thead>\n",
       "    <tr style=\"text-align: right;\">\n",
       "      <th></th>\n",
       "      <th>msg_id</th>\n",
       "      <th>message</th>\n",
       "    </tr>\n",
       "  </thead>\n",
       "  <tbody>\n",
       "    <tr>\n",
       "      <th>0</th>\n",
       "      <td>4</td>\n",
       "      <td>Гаврилович Роман Александрович и \\nВоробьев Де...</td>\n",
       "    </tr>\n",
       "    <tr>\n",
       "      <th>1</th>\n",
       "      <td>5</td>\n",
       "      <td>Подписаться | Бот для поиска своих | Резервный...</td>\n",
       "    </tr>\n",
       "    <tr>\n",
       "      <th>2</th>\n",
       "      <td>7</td>\n",
       "      <td>Подписаться | Бот для поиска своих | Резервный...</td>\n",
       "    </tr>\n",
       "    <tr>\n",
       "      <th>3</th>\n",
       "      <td>38</td>\n",
       "      <td>Плотников Сергей Витальевич \\nг. Прокопьевск К...</td>\n",
       "    </tr>\n",
       "    <tr>\n",
       "      <th>4</th>\n",
       "      <td>40</td>\n",
       "      <td>Командир танкового батальона 35 мотострелковой...</td>\n",
       "    </tr>\n",
       "    <tr>\n",
       "      <th>...</th>\n",
       "      <td>...</td>\n",
       "      <td>...</td>\n",
       "    </tr>\n",
       "    <tr>\n",
       "      <th>10995</th>\n",
       "      <td>15640</td>\n",
       "      <td>❗️Во время послания путин процитировал одного ...</td>\n",
       "    </tr>\n",
       "    <tr>\n",
       "      <th>10996</th>\n",
       "      <td>15641</td>\n",
       "      <td>❗️Коротко подытожим сказанное \\n\\nПодписаться ...</td>\n",
       "    </tr>\n",
       "    <tr>\n",
       "      <th>10997</th>\n",
       "      <td>15642</td>\n",
       "      <td>❗️Самый предсказуемый спич ever\\n\\nМемы придум...</td>\n",
       "    </tr>\n",
       "    <tr>\n",
       "      <th>10998</th>\n",
       "      <td>15643</td>\n",
       "      <td>❗️Тем временем спецоперация идет по плану\\n\\n▪...</td>\n",
       "    </tr>\n",
       "    <tr>\n",
       "      <th>10999</th>\n",
       "      <td>15644</td>\n",
       "      <td>❗️Кхе-кхе, а Мединский пристреливается или нав...</td>\n",
       "    </tr>\n",
       "  </tbody>\n",
       "</table>\n",
       "<p>11000 rows × 2 columns</p>\n",
       "</div>"
      ],
      "text/plain": [
       "       msg_id                                            message\n",
       "0           4  Гаврилович Роман Александрович и \\nВоробьев Де...\n",
       "1           5  Подписаться | Бот для поиска своих | Резервный...\n",
       "2           7  Подписаться | Бот для поиска своих | Резервный...\n",
       "3          38  Плотников Сергей Витальевич \\nг. Прокопьевск К...\n",
       "4          40  Командир танкового батальона 35 мотострелковой...\n",
       "...       ...                                                ...\n",
       "10995   15640  ❗️Во время послания путин процитировал одного ...\n",
       "10996   15641  ❗️Коротко подытожим сказанное \\n\\nПодписаться ...\n",
       "10997   15642  ❗️Самый предсказуемый спич ever\\n\\nМемы придум...\n",
       "10998   15643  ❗️Тем временем спецоперация идет по плану\\n\\n▪...\n",
       "10999   15644  ❗️Кхе-кхе, а Мединский пристреливается или нав...\n",
       "\n",
       "[11000 rows x 2 columns]"
      ]
     },
     "execution_count": 2,
     "metadata": {},
     "output_type": "execute_result"
    }
   ],
   "source": [
    "df = pd.read_csv('./msgs_ischi_svoih.csv', usecols=['msg_id', 'message'])\n",
    "df"
   ]
  },
  {
   "cell_type": "markdown",
   "id": "3f6aaa86-8b5d-4436-b494-a8f0ce4bf96d",
   "metadata": {},
   "source": [
    "The task is to extract patterns which contains 5-digit id (occasionally with a single letter prefix) preceded by \"military unit\" (or few common variations of those words). Here are some examples of successful matches:\n",
    "- **в/ч 22179** (most common abbreviation)\n",
    "- **в/ч Л-12265** (id contains single letter prefix)\n",
    "- **войсковой части 20924** (here the words are inflected according to sentence context)\n",
    "- **военная часть 91701** (technically incorrect but common usage of word \"военная\" instead of \"войсковая\")"
   ]
  },
  {
   "cell_type": "markdown",
   "id": "b3baa5ff-d1c2-4235-880d-39b9149001c2",
   "metadata": {},
   "source": [
    "## Spacy soluion"
   ]
  },
  {
   "cell_type": "markdown",
   "id": "cf557362-f552-451d-8908-c095f56eba98",
   "metadata": {},
   "source": [
    "Spacy provides fairly easy way to construct patterns and match them with existing pretrained pipelines. Major drawbacks are linearity of those patterns (there are no nested patterns in Spacy) and execution speed (mostly due to the fact, that full pipeline is applied to all documents, while that could be avoided if most computationally expensive steps were checked only against those documents which weren't filtered out by simpler rules)"
   ]
  },
  {
   "cell_type": "code",
   "execution_count": 3,
   "id": "c39f9e64-8b54-4b4b-9b9c-00fb8ca527f1",
   "metadata": {
    "tags": []
   },
   "outputs": [],
   "source": [
    "import re\n",
    "\n",
    "import spacy\n",
    "from spacy import displacy, Language"
   ]
  },
  {
   "cell_type": "code",
   "execution_count": 4,
   "id": "89d7ba15-d42e-4f4a-acfb-e2bf2213efb6",
   "metadata": {
    "tags": []
   },
   "outputs": [],
   "source": [
    "# retokenize tokens to split letters from numerical symbols if there are no spaces inbetween\n",
    "@Language.factory(\"re_tokenize\")\n",
    "def re_tokenize(nlp, name):\n",
    "    return ReTokenize()\n",
    "\n",
    "class ReTokenize:\n",
    "    def __call__(self, doc):\n",
    "        regexp = re.compile(r'(?<=\\d)(?=\\D)|(?<=\\D)(?=\\d)|(?<=\\w)(?=\\W)|(?<=\\W)(?=\\w)')\n",
    "        with doc.retokenize() as retokenizer:\n",
    "            for i, t in enumerate(doc):\n",
    "                splitted = regexp.split(t.text)\n",
    "                if len(splitted) == 1:\n",
    "                    continue\n",
    "                retokenizer.split(t, splitted, [(t, 0) for _ in splitted])\n",
    "        return doc"
   ]
  },
  {
   "cell_type": "code",
   "execution_count": 5,
   "id": "fa475fc6-711b-478a-b6e2-98f5252985f2",
   "metadata": {
    "tags": []
   },
   "outputs": [],
   "source": [
    "# constructing pattern\n",
    "\n",
    "spacy_nlp = spacy.load(\"ru_core_news_sm\", exclude=['ner'])\n",
    "re_tokenizer = spacy_nlp.add_pipe(\"re_tokenize\", \"split_num_nonnum\", before='tok2vec')\n",
    "\n",
    "mil_unit_ruler = spacy_nlp.add_pipe(\"span_ruler\", \"mil_unit_span_ruler\",\n",
    "                                    config={\"annotate_ents\": True})\n",
    "patterns = [\n",
    "    {\"label\": \"MIL_UNIT\", \"pattern\": [\n",
    "        {\"LOWER\": \"в\"},\n",
    "        {\"NORM\": {\"IN\": [\"/\", \"\\\\\", \".\"]}},\n",
    "        {\"LOWER\": \"ч\"},\n",
    "        {\"NORM\": \".\", \"OP\": \"?\"},\n",
    "    ]},\n",
    "    {\"label\": \"MIL_UNIT\", \"pattern\": [\n",
    "        {\"LOWER\": \"вч\"},\n",
    "    ]},\n",
    "    {\"label\": \"MIL_UNIT\", \"pattern\": [\n",
    "        {\"LEMMA\": \"войсковой\"},\n",
    "        {\"LEMMA\": \"часть\"},\n",
    "    ]},\n",
    "    {\"label\": \"MIL_UNIT\", \"pattern\": [\n",
    "        {\"LEMMA\": \"военный\"},\n",
    "        {\"LEMMA\": \"часть\"},\n",
    "    ]},\n",
    "    {\"label\": \"MIL_UNIT\", \"pattern\": [\n",
    "        {\"LEMMA\": \"воинский\"},\n",
    "        {\"LEMMA\": \"часть\"},\n",
    "    ]},\n",
    "]\n",
    "mil_unit_ruler.add_patterns(patterns)\n",
    "\n",
    "mil_unit_x_ruler = spacy_nlp.add_pipe(\"span_ruler\", name='mil_unit_x_span_ruler',\n",
    "                                      config={\"overwrite\": True, \"annotate_ents\": True})\n",
    "patterns = [\n",
    "    {\"label\": \"MIL_UNIT_X\", \"pattern\": [\n",
    "        {\"ENT_TYPE\": \"MIL_UNIT\", \"OP\": \"+\"},\n",
    "        {\"OP\": \"{0,1}\"},\n",
    "        {\"IS_ALPHA\": True, \"LENGTH\": 1, \"OP\": \"?\"},\n",
    "        {\"NORM\": \"-\", \"OP\": \"?\"},\n",
    "        {\"IS_DIGIT\": True, \"LENGTH\": 5},\n",
    "    ]},\n",
    "]\n",
    "mil_unit_x_ruler.add_patterns(patterns)"
   ]
  },
  {
   "cell_type": "code",
   "execution_count": 6,
   "id": "5a8b9f2a-f88b-4cca-a512-1f97a5ef6451",
   "metadata": {
    "tags": []
   },
   "outputs": [
    {
     "name": "stderr",
     "output_type": "stream",
     "text": [
      "100%|█████████████████████████████████████| 11000/11000 [02:03<00:00, 89.15it/s]"
     ]
    },
    {
     "name": "stdout",
     "output_type": "stream",
     "text": [
      "n_matched_msgs=161 n_matches=172\n",
      "CPU times: user 2min 3s, sys: 341 ms, total: 2min 3s\n",
      "Wall time: 2min 3s\n"
     ]
    },
    {
     "name": "stderr",
     "output_type": "stream",
     "text": [
      "\n"
     ]
    }
   ],
   "source": [
    "%%time\n",
    "# actual matching\n",
    "\n",
    "docs = list(tqdm(spacy_nlp.pipe(df.message), total=df.shape[0]))\n",
    "\n",
    "matches = []\n",
    "n_matches = 0\n",
    "for doc, msg_id in zip(docs, df.msg_id):\n",
    "    have_matches = False\n",
    "    for i in doc.ents:\n",
    "        if i.label_ in ['MIL_UNIT_X']:\n",
    "            have_matches = True\n",
    "            n_matches += 1\n",
    "    if not have_matches:\n",
    "        continue\n",
    "    matches.append((doc, msg_id))\n",
    "\n",
    "n_matched_msgs = len(matches)\n",
    "print(f'{n_matched_msgs=} {n_matches=}')"
   ]
  },
  {
   "cell_type": "code",
   "execution_count": 7,
   "id": "160e196e-cba9-4eb5-835a-27636a84b474",
   "metadata": {
    "tags": []
   },
   "outputs": [
    {
     "name": "stderr",
     "output_type": "stream",
     "text": [
      "100%|████████████████████████████████████| 11000/11000 [00:35<00:00, 311.11it/s]\n"
     ]
    },
    {
     "name": "stdout",
     "output_type": "stream",
     "text": [
      "n_matched_msgs=161 n_matches=172\n",
      "CPU times: user 25.2 s, sys: 672 ms, total: 25.9 s\n",
      "Wall time: 35.5 s\n"
     ]
    }
   ],
   "source": [
    "%%time\n",
    "# matching in parallel\n",
    "\n",
    "docs = list(tqdm(spacy_nlp.pipe(df.message, n_process=-1), total=df.shape[0]))\n",
    "\n",
    "matches = []\n",
    "n_matches = 0\n",
    "for doc, msg_id in zip(docs, df.msg_id):\n",
    "    have_matches = False\n",
    "    for i in doc.ents:\n",
    "        if i.label_ in ['MIL_UNIT_X']:\n",
    "            have_matches = True\n",
    "            n_matches += 1\n",
    "    if not have_matches:\n",
    "        continue\n",
    "    matches.append((doc, msg_id))\n",
    "\n",
    "n_matched_msgs = len(matches)\n",
    "print(f'{n_matched_msgs=} {n_matches=}')"
   ]
  },
  {
   "cell_type": "code",
   "execution_count": 8,
   "id": "d1ff58ad-40e8-40a2-828c-a1f0c46f65c3",
   "metadata": {
    "tags": []
   },
   "outputs": [
    {
     "name": "stdout",
     "output_type": "stream",
     "text": [
      "msg_id=4\n"
     ]
    },
    {
     "data": {
      "text/html": [
       "<span class=\"tex2jax_ignore\"><div class=\"entities\" style=\"line-height: 2.5; direction: ltr\">Гаврилович Роман Александрович и </br>Воробьев Денис Валерьевич из Ленинградской обл., \n",
       "<mark class=\"entity\" style=\"background: #ddd; padding: 0.45em 0.6em; margin: 0 0.25em; line-height: 1; border-radius: 0.35em;\">\n",
       "    в/ч02511\n",
       "    <span style=\"font-size: 0.8em; font-weight: bold; line-height: 1; border-radius: 0.35em; vertical-align: middle; margin-left: 0.5rem\">MIL_UNIT_X</span>\n",
       "</mark>\n",
       ".</br></br>Подписаться | Бот для поиска своих | Резервный канал</div></span>"
      ],
      "text/plain": [
       "<IPython.core.display.HTML object>"
      ]
     },
     "metadata": {},
     "output_type": "display_data"
    },
    {
     "name": "stdout",
     "output_type": "stream",
     "text": [
      "################################################################################\n",
      "msg_id=50\n"
     ]
    },
    {
     "data": {
      "text/html": [
       "<span class=\"tex2jax_ignore\"><div class=\"entities\" style=\"line-height: 2.5; direction: ltr\">Куликов Михаил  Игоревич, \n",
       "<mark class=\"entity\" style=\"background: #ddd; padding: 0.45em 0.6em; margin: 0 0.25em; line-height: 1; border-radius: 0.35em;\">\n",
       "    в/ч41659\n",
       "    <span style=\"font-size: 0.8em; font-weight: bold; line-height: 1; border-radius: 0.35em; vertical-align: middle; margin-left: 0.5rem\">MIL_UNIT_X</span>\n",
       "</mark>\n",
       ".</br></br>Подписаться | Бот для поиска своих | Резервный канал</div></span>"
      ],
      "text/plain": [
       "<IPython.core.display.HTML object>"
      ]
     },
     "metadata": {},
     "output_type": "display_data"
    },
    {
     "name": "stdout",
     "output_type": "stream",
     "text": [
      "################################################################################\n",
      "msg_id=69\n"
     ]
    },
    {
     "data": {
      "text/html": [
       "<span class=\"tex2jax_ignore\"><div class=\"entities\" style=\"line-height: 2.5; direction: ltr\">12 отдельный мотострелковый батальон \n",
       "<mark class=\"entity\" style=\"background: #ddd; padding: 0.45em 0.6em; margin: 0 0.25em; line-height: 1; border-radius: 0.35em;\">\n",
       "    в/ч Л-12265\n",
       "    <span style=\"font-size: 0.8em; font-weight: bold; line-height: 1; border-radius: 0.35em; vertical-align: middle; margin-left: 0.5rem\">MIL_UNIT_X</span>\n",
       "</mark>\n",
       ". Погибшие за сутки 24.02.22</br></br>Подписаться | Бот для поиска своих | Резервный канал</div></span>"
      ],
      "text/plain": [
       "<IPython.core.display.HTML object>"
      ]
     },
     "metadata": {},
     "output_type": "display_data"
    },
    {
     "name": "stdout",
     "output_type": "stream",
     "text": [
      "################################################################################\n",
      "msg_id=83\n"
     ]
    },
    {
     "data": {
      "text/html": [
       "<span class=\"tex2jax_ignore\"><div class=\"entities\" style=\"line-height: 2.5; direction: ltr\">Бахтышев Леонид Викторович</br>\n",
       "<mark class=\"entity\" style=\"background: #ddd; padding: 0.45em 0.6em; margin: 0 0.25em; line-height: 1; border-radius: 0.35em;\">\n",
       "    в/ч 22179\n",
       "    <span style=\"font-size: 0.8em; font-weight: bold; line-height: 1; border-radius: 0.35em; vertical-align: middle; margin-left: 0.5rem\">MIL_UNIT_X</span>\n",
       "</mark>\n",
       "</br>25.02.1994 года</br>с. Кама Кондинский район, Тюменская облась</br>командир отделения снайперов 102 мотострелкового полка </br>150 мотострелковой дивизии</br>8 общевойсковой армии</br>расположение Ростовская область, поселок Керсоянов</br>командир взода лейтенант Узульцев (?) Михаил Владимирович</br>командир роты капитан Овчаренко Дмитрий Валерьевич</br>командир полка подполковник Амирхаян (?)</br></br>Подписаться | Бот для поиска своих | Резервный канал</div></span>"
      ],
      "text/plain": [
       "<IPython.core.display.HTML object>"
      ]
     },
     "metadata": {},
     "output_type": "display_data"
    },
    {
     "name": "stdout",
     "output_type": "stream",
     "text": [
      "################################################################################\n"
     ]
    }
   ],
   "source": [
    "# Render some results\n",
    "\n",
    "for doc, msg_id in matches[:4]:\n",
    "    print(f'{msg_id=}')\n",
    "    displacy.render(doc, style=\"ent\")\n",
    "    print('#'*80)"
   ]
  },
  {
   "cell_type": "code",
   "execution_count": 9,
   "id": "c229f17a-410d-4974-bb09-084a7a0acd5f",
   "metadata": {
    "tags": []
   },
   "outputs": [
    {
     "name": "stdout",
     "output_type": "stream",
     "text": [
      "n_matched_msgs=161 n_matches=172\n"
     ]
    }
   ],
   "source": [
    "print(f'{n_matched_msgs=} {n_matches=}')"
   ]
  },
  {
   "cell_type": "markdown",
   "id": "6e70ff81-1c26-4244-938c-a901ed34db40",
   "metadata": {},
   "source": [
    "## lazy_nlp_pipeline solution"
   ]
  },
  {
   "cell_type": "markdown",
   "id": "5a1e65cd-8a5d-40c5-a65a-d7dbcc0a34cb",
   "metadata": {},
   "source": [
    "`lazy_nlp_pipeline` provides a way to construct nested patterns and match them in a lazy fashion. In some cases it could significantly speed-up matching, as compared to Spacy solution"
   ]
  },
  {
   "cell_type": "code",
   "execution_count": 10,
   "id": "9ff11338-df7d-4028-8447-30ebaf51c763",
   "metadata": {
    "tags": []
   },
   "outputs": [],
   "source": [
    "from lazy_nlp_pipeline import NLP, Pattern as P, TokenPattern as TP, WordPattern as WP"
   ]
  },
  {
   "cell_type": "code",
   "execution_count": 11,
   "id": "cbed6124-0ad8-4dd7-808b-0b1d350f178b",
   "metadata": {
    "tags": []
   },
   "outputs": [],
   "source": [
    "# constructing pattern\n",
    "\n",
    "# \"military unit\" prefix pattern is built as either of 3 options:\n",
    "mil_unit_pattern = P(         # 1) abbreviations like \"в/ч\", \"в\\ч\", \"в.ч.\", \"в.ч\", \"в ч\", etc.\n",
    "    TP('в', ignore_case=True),\n",
    "    (TP('/') | TP('\\\\') | TP('.'))[0:1],\n",
    "    TP('ч', ignore_case=True),\n",
    "    TP('.')[0:1],\n",
    ") | P(                        # 2) single token \"вч\", \"ВЧ\", \"Вч\", \"вЧ\"\n",
    "    TP('вч', ignore_case=True),\n",
    ") | P(                        # 3) full words, matched by lemmas\n",
    "    WP(lemma='войсковой') | WP(lemma='военный') | WP(lemma='воинский'),\n",
    "    WP(lemma='часть'),\n",
    ")\n",
    "\n",
    "# full pattern consists of \"military unit\" subpattern + optional one token + id\n",
    "mil_unit_x_pattern = P(\n",
    "    mil_unit_pattern,                          # \"military unit\"\n",
    "    TP()[0:1],                                 # optional any token, i.e. \"№\" or anything else\n",
    "    P(                                         # id\n",
    "        P(                                         # optional one letter + dash prefix\n",
    "            TP(isalpha=True, max_len=1),\n",
    "            TP('-')[0:1],\n",
    "         )[0:1],\n",
    "        TP(isnumeric=True, min_len=5, max_len=5),  # 5-digit number\n",
    "\n",
    "        as_attribute='unit_id',  # save text matched with this subpattern as \"unit_id\" attribute of full match\n",
    "    ),\n",
    ")"
   ]
  },
  {
   "cell_type": "code",
   "execution_count": 12,
   "id": "72a56aa4-13a5-4308-9407-1dd07036473b",
   "metadata": {
    "tags": []
   },
   "outputs": [
    {
     "name": "stdout",
     "output_type": "stream",
     "text": [
      "n_matched_msgs=161 n_matches=174\n",
      "CPU times: user 8.45 s, sys: 64 ms, total: 8.52 s\n",
      "Wall time: 8.52 s\n"
     ]
    }
   ],
   "source": [
    "%%time\n",
    "# actual matching\n",
    "\n",
    "lazy_nlp = NLP(project_name='mil_unit_matching')\n",
    "\n",
    "docs = [lazy_nlp(text) for text in df.message]\n",
    "for d, msg_id in zip(docs, df.msg_id):\n",
    "    d.lazy_attributes['msg_id'] = msg_id\n",
    "\n",
    "matches = list(lazy_nlp.match_patterns([mil_unit_x_pattern], texts=docs, backward=True))\n",
    "\n",
    "n_matches = len(matches)\n",
    "n_matched_msgs = len(set(s.doc for s in matches))\n",
    "print(f'{n_matched_msgs=} {n_matches=}')"
   ]
  },
  {
   "cell_type": "markdown",
   "id": "85d1ad80-f6b2-41ac-91f4-b0e6331a61ea",
   "metadata": {},
   "source": [
    "`lazy_nlp_pipeline` doesn't provide parallel processing out-of-the-box, but it is possible to implement"
   ]
  },
  {
   "cell_type": "code",
   "execution_count": 13,
   "id": "4a12b4dd-a9f1-4eb8-a607-37f9660c69dc",
   "metadata": {
    "tags": []
   },
   "outputs": [],
   "source": [
    "import multiprocessing\n",
    "from multiprocessing import Pool"
   ]
  },
  {
   "cell_type": "code",
   "execution_count": 14,
   "id": "ff682d51-f919-4de4-b745-4c5f53574dc1",
   "metadata": {
    "tags": []
   },
   "outputs": [
    {
     "name": "stdout",
     "output_type": "stream",
     "text": [
      "n_matched_msgs=161 n_matches=174\n",
      "CPU times: user 4.76 s, sys: 1.38 s, total: 6.14 s\n",
      "Wall time: 7.08 s\n"
     ]
    }
   ],
   "source": [
    "%%time\n",
    "# matching in parallel\n",
    "\n",
    "def match(doc):\n",
    "    return list(mil_unit_x_pattern.match(doc, forward=False))\n",
    "\n",
    "lazy_nlp = NLP(project_name='mil_unit_matching')\n",
    "\n",
    "docs = [lazy_nlp(text) for text in df.message]\n",
    "for d, msg_id in zip(docs, df.msg_id):\n",
    "    d.lazy_attributes['msg_id'] = msg_id\n",
    "\n",
    "with multiprocessing.Pool(multiprocessing.cpu_count()) as p:\n",
    "    sub_matches = p.map(match, docs)\n",
    "\n",
    "matches = sum(sub_matches, start=[])\n",
    "\n",
    "n_matches = len(matches)\n",
    "n_matched_msgs = len(set(s.doc for s in matches))\n",
    "print(f'{n_matched_msgs=} {n_matches=}')"
   ]
  },
  {
   "cell_type": "code",
   "execution_count": 15,
   "id": "b78ca92e-d715-4b61-a5ef-c664940e6a25",
   "metadata": {
    "tags": []
   },
   "outputs": [
    {
     "name": "stdout",
     "output_type": "stream",
     "text": [
      "msg_id=4\n",
      "match=Span('в/ч02511')[83:91 doc=140100198609248 {unit_id: '02511'}]\n"
     ]
    },
    {
     "data": {
      "text/html": [
       "<span class=\"tex2jax_ignore\"><div class=\"entities\" style=\"line-height: 2.5; direction: ltr\">Гаврилович Роман Александрович и </br>Воробьев Денис Валерьевич из Ленинградской обл., \n",
       "<mark class=\"entity\" style=\"background: #ddd; padding: 0.45em 0.6em; margin: 0 0.25em; line-height: 1; border-radius: 0.35em;\">\n",
       "    в/ч02511\n",
       "    <span style=\"font-size: 0.8em; font-weight: bold; line-height: 1; border-radius: 0.35em; vertical-align: middle; margin-left: 0.5rem\">MIL_UNIT_X</span>\n",
       "</mark>\n",
       ".</br></br>Подписаться | Бот для поиска своих | Резервный канал</div></span>"
      ],
      "text/plain": [
       "<IPython.core.display.HTML object>"
      ]
     },
     "metadata": {},
     "output_type": "display_data"
    },
    {
     "name": "stdout",
     "output_type": "stream",
     "text": [
      "################################################################################\n",
      "msg_id=50\n",
      "match=Span('в/ч41659')[26:34 doc=140100198836368 {unit_id: '41659'}]\n"
     ]
    },
    {
     "data": {
      "text/html": [
       "<span class=\"tex2jax_ignore\"><div class=\"entities\" style=\"line-height: 2.5; direction: ltr\">Куликов Михаил  Игоревич, \n",
       "<mark class=\"entity\" style=\"background: #ddd; padding: 0.45em 0.6em; margin: 0 0.25em; line-height: 1; border-radius: 0.35em;\">\n",
       "    в/ч41659\n",
       "    <span style=\"font-size: 0.8em; font-weight: bold; line-height: 1; border-radius: 0.35em; vertical-align: middle; margin-left: 0.5rem\">MIL_UNIT_X</span>\n",
       "</mark>\n",
       ".</br></br>Подписаться | Бот для поиска своих | Резервный канал</div></span>"
      ],
      "text/plain": [
       "<IPython.core.display.HTML object>"
      ]
     },
     "metadata": {},
     "output_type": "display_data"
    },
    {
     "name": "stdout",
     "output_type": "stream",
     "text": [
      "################################################################################\n",
      "msg_id=69\n",
      "match=Span('в/ч Л-12265')[37:48 doc=140100198834832 {unit_id: 'Л-12265'}]\n"
     ]
    },
    {
     "data": {
      "text/html": [
       "<span class=\"tex2jax_ignore\"><div class=\"entities\" style=\"line-height: 2.5; direction: ltr\">12 отдельный мотострелковый батальон \n",
       "<mark class=\"entity\" style=\"background: #ddd; padding: 0.45em 0.6em; margin: 0 0.25em; line-height: 1; border-radius: 0.35em;\">\n",
       "    в/ч Л-12265\n",
       "    <span style=\"font-size: 0.8em; font-weight: bold; line-height: 1; border-radius: 0.35em; vertical-align: middle; margin-left: 0.5rem\">MIL_UNIT_X</span>\n",
       "</mark>\n",
       ". Погибшие за сутки 24.02.22</br></br>Подписаться | Бот для поиска своих | Резервный канал</div></span>"
      ],
      "text/plain": [
       "<IPython.core.display.HTML object>"
      ]
     },
     "metadata": {},
     "output_type": "display_data"
    },
    {
     "name": "stdout",
     "output_type": "stream",
     "text": [
      "################################################################################\n",
      "msg_id=83\n",
      "match=Span('в/ч 22179')[27:36 doc=140100198829264 {unit_id: '22179'}]\n"
     ]
    },
    {
     "data": {
      "text/html": [
       "<span class=\"tex2jax_ignore\"><div class=\"entities\" style=\"line-height: 2.5; direction: ltr\">Бахтышев Леонид Викторович</br>\n",
       "<mark class=\"entity\" style=\"background: #ddd; padding: 0.45em 0.6em; margin: 0 0.25em; line-height: 1; border-radius: 0.35em;\">\n",
       "    в/ч 22179\n",
       "    <span style=\"font-size: 0.8em; font-weight: bold; line-height: 1; border-radius: 0.35em; vertical-align: middle; margin-left: 0.5rem\">MIL_UNIT_X</span>\n",
       "</mark>\n",
       "</br>25.02.1994 года</br>с. Кама Кондинский район, Тюменская облась</br>командир отделения снайперов 102 мотострелкового полка </br>150 мотострелковой дивизии</br>8 общевойсковой армии</br>расположение Ростовская область, поселок Керсоянов</br>командир взода лейтенант Узульцев (?) Михаил Владимирович</br>командир роты капитан Овчаренко Дмитрий Валерьевич</br>командир полка подполковник Амирхаян (?)</br></br>Подписаться | Бот для поиска своих | Резервный канал</div></span>"
      ],
      "text/plain": [
       "<IPython.core.display.HTML object>"
      ]
     },
     "metadata": {},
     "output_type": "display_data"
    },
    {
     "name": "stdout",
     "output_type": "stream",
     "text": [
      "################################################################################\n"
     ]
    }
   ],
   "source": [
    "# Render some results\n",
    "\n",
    "for match in matches[:4]:\n",
    "    msg_id = match.doc.msg_id\n",
    "    print(f'{msg_id=}')\n",
    "    print(f'{match=}')\n",
    "    displacy.render([{\"text\": match.doc.text,\n",
    "                      \"ents\": [{\"start\": match.start_char, \"end\": match.end_char, \"label\": \"MIL_UNIT_X\"}]}],\n",
    "                    style=\"ent\", manual=True)\n",
    "    print('#'*80)"
   ]
  },
  {
   "cell_type": "code",
   "execution_count": 16,
   "id": "dab466e1-c9ce-46af-8508-2ff434f09ad5",
   "metadata": {
    "tags": []
   },
   "outputs": [
    {
     "name": "stdout",
     "output_type": "stream",
     "text": [
      "n_matched_msgs=161 n_matches=174\n"
     ]
    }
   ],
   "source": [
    "print(f'{n_matched_msgs=} {n_matches=}')"
   ]
  },
  {
   "cell_type": "markdown",
   "id": "a7a18f04-0819-4aa3-9a2a-d2a2e70ef573",
   "metadata": {},
   "source": [
    "## Comparison\n",
    "\n",
    "`lazy_nlp_pipeline` could outperform Spacy in some cases due to the benefits of lazy evaluation. Even though, unlike Spacy, it doesn't allow multiprocessing out-of-the-box. Furthermore, as it is shown here, there is room to speed-up `lazy_nlp_pipeline` with multiprocessing.\n",
    "\n",
    "Here is the comparison of time to process given dataset:\n",
    "\n",
    "time (time running in parallel)<br>\n",
    "Spacy: 123s (36s)<br>\n",
    "lazy_nlp_pipeline: 9s (7s)<br>\n",
    "\n",
    "`lazy_nlp_pipeline` also provides ability to use nested patterns.\n",
    "\n",
    "Spacy does have massive ecosystem and many more features both within it's rule-based pattern matching and beyond"
   ]
  }
 ],
 "metadata": {
  "kernelspec": {
   "display_name": "mixenv",
   "language": "python",
   "name": "mixenv"
  },
  "language_info": {
   "codemirror_mode": {
    "name": "ipython",
    "version": 3
   },
   "file_extension": ".py",
   "mimetype": "text/x-python",
   "name": "python",
   "nbconvert_exporter": "python",
   "pygments_lexer": "ipython3",
   "version": "3.10.6"
  }
 },
 "nbformat": 4,
 "nbformat_minor": 5
}
